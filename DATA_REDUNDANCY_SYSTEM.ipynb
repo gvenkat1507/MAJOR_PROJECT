{
 "cells": [
  {
   "cell_type": "code",
   "execution_count": 3,
   "id": "62e94818",
   "metadata": {
    "id": "62e94818"
   },
   "outputs": [],
   "source": [
    "import tkinter as tk\n",
    "from tkinter import ttk\n",
    "from tkinter import scrolledtext\n",
    "import pandas as pd\n",
    "import numpy as np\n",
    "import hashlib\n",
    "from sklearn.cluster import KMeans\n",
    "import matplotlib.pyplot as plt\n",
    "from matplotlib.backends.backend_tkagg import FigureCanvasTkAgg"
   ]
  },
  {
   "cell_type": "code",
   "execution_count": 4,
   "id": "1ecbd7cb",
   "metadata": {
    "id": "1ecbd7cb"
   },
   "outputs": [],
   "source": [
    "# Load the Steam-200k dataset from a CSV file\n",
    "data = pd.read_csv(\"C:\\\\Users\\\\rohit\\\\Downloads\\\\steam-200k.csv\", header=None, names=['user_id', 'game_title', 'behavior', 'hours_played', 'other'])"
   ]
  },
  {
   "cell_type": "code",
   "execution_count": 29,
   "id": "77938d37",
   "metadata": {},
   "outputs": [
    {
     "data": {
      "text/html": [
       "<div>\n",
       "<style scoped>\n",
       "    .dataframe tbody tr th:only-of-type {\n",
       "        vertical-align: middle;\n",
       "    }\n",
       "\n",
       "    .dataframe tbody tr th {\n",
       "        vertical-align: top;\n",
       "    }\n",
       "\n",
       "    .dataframe thead th {\n",
       "        text-align: right;\n",
       "    }\n",
       "</style>\n",
       "<table border=\"1\" class=\"dataframe\">\n",
       "  <thead>\n",
       "    <tr style=\"text-align: right;\">\n",
       "      <th></th>\n",
       "      <th>user_id</th>\n",
       "      <th>game_title</th>\n",
       "      <th>behavior</th>\n",
       "      <th>hours_played</th>\n",
       "      <th>other</th>\n",
       "    </tr>\n",
       "  </thead>\n",
       "  <tbody>\n",
       "    <tr>\n",
       "      <th>0</th>\n",
       "      <td>151603712</td>\n",
       "      <td>The Elder Scrolls V Skyrim</td>\n",
       "      <td>purchase</td>\n",
       "      <td>1.0</td>\n",
       "      <td>0</td>\n",
       "    </tr>\n",
       "    <tr>\n",
       "      <th>1</th>\n",
       "      <td>151603712</td>\n",
       "      <td>The Elder Scrolls V Skyrim</td>\n",
       "      <td>play</td>\n",
       "      <td>273.0</td>\n",
       "      <td>0</td>\n",
       "    </tr>\n",
       "    <tr>\n",
       "      <th>2</th>\n",
       "      <td>151603712</td>\n",
       "      <td>Fallout 4</td>\n",
       "      <td>purchase</td>\n",
       "      <td>1.0</td>\n",
       "      <td>0</td>\n",
       "    </tr>\n",
       "    <tr>\n",
       "      <th>3</th>\n",
       "      <td>151603712</td>\n",
       "      <td>Fallout 4</td>\n",
       "      <td>play</td>\n",
       "      <td>87.0</td>\n",
       "      <td>0</td>\n",
       "    </tr>\n",
       "    <tr>\n",
       "      <th>4</th>\n",
       "      <td>151603712</td>\n",
       "      <td>Spore</td>\n",
       "      <td>purchase</td>\n",
       "      <td>1.0</td>\n",
       "      <td>0</td>\n",
       "    </tr>\n",
       "  </tbody>\n",
       "</table>\n",
       "</div>"
      ],
      "text/plain": [
       "     user_id                  game_title  behavior  hours_played  other\n",
       "0  151603712  The Elder Scrolls V Skyrim  purchase           1.0      0\n",
       "1  151603712  The Elder Scrolls V Skyrim      play         273.0      0\n",
       "2  151603712                   Fallout 4  purchase           1.0      0\n",
       "3  151603712                   Fallout 4      play          87.0      0\n",
       "4  151603712                       Spore  purchase           1.0      0"
      ]
     },
     "execution_count": 29,
     "metadata": {},
     "output_type": "execute_result"
    }
   ],
   "source": [
    "data.head()"
   ]
  },
  {
   "cell_type": "code",
   "execution_count": 5,
   "id": "aee03ad4",
   "metadata": {
    "id": "aee03ad4"
   },
   "outputs": [],
   "source": [
    "# Introduce redundancy by duplicating some data entries\n",
    "data = pd.concat([data] * 2, ignore_index=True)  # Duplicate the dataset"
   ]
  },
  {
   "cell_type": "code",
   "execution_count": 6,
   "id": "356c208a",
   "metadata": {
    "id": "356c208a"
   },
   "outputs": [],
   "source": [
    "# Step 1: Generate Checksums for Data\n",
    "def calculate_checksum(data):\n",
    "    sha256 = hashlib.sha256()\n",
    "    sha256.update(str(data).encode('utf-8'))\n",
    "    return sha256.hexdigest()"
   ]
  },
  {
   "cell_type": "code",
   "execution_count": 7,
   "id": "a58bcb04",
   "metadata": {
    "id": "a58bcb04"
   },
   "outputs": [],
   "source": [
    "# Calculate checksums for the data\n",
    "checksums = [calculate_checksum(row) for _, row in data.iterrows()]"
   ]
  },
  {
   "cell_type": "code",
   "execution_count": 8,
   "id": "77ec978f",
   "metadata": {
    "id": "77ec978f"
   },
   "outputs": [],
   "source": [
    "# Step 2: Use Machine Learning for Redundancy Detection\n",
    "# Convert checksums to a numerical representation\n",
    "checksum_vectors = np.array([int(checksum, 16) for checksum in checksums]).reshape(-1, 1)"
   ]
  },
  {
   "cell_type": "code",
   "execution_count": 9,
   "id": "9f87c029",
   "metadata": {
    "colab": {
     "base_uri": "https://localhost:8080/"
    },
    "id": "9f87c029",
    "outputId": "50f3a843-7952-4cc1-cccc-7b558f22fbab"
   },
   "outputs": [
    {
     "name": "stderr",
     "output_type": "stream",
     "text": [
      "C:\\Users\\rohit\\anaconda3\\lib\\site-packages\\sklearn\\cluster\\_kmeans.py:1416: FutureWarning: The default value of `n_init` will change from 10 to 'auto' in 1.4. Set the value of `n_init` explicitly to suppress the warning\n",
      "  super()._check_params_vs_input(X, default_n_init=10)\n"
     ]
    }
   ],
   "source": [
    "# Apply K-Means clustering to identify redundancy\n",
    "n_clusters = 2  # You can adjust the number of clusters based on your data\n",
    "kmeans = KMeans(n_clusters=n_clusters, random_state=0).fit(checksum_vectors)"
   ]
  },
  {
   "cell_type": "code",
   "execution_count": 30,
   "id": "92fd5022",
   "metadata": {},
   "outputs": [
    {
     "data": {
      "text/html": [
       "<div>\n",
       "<style scoped>\n",
       "    .dataframe tbody tr th:only-of-type {\n",
       "        vertical-align: middle;\n",
       "    }\n",
       "\n",
       "    .dataframe tbody tr th {\n",
       "        vertical-align: top;\n",
       "    }\n",
       "\n",
       "    .dataframe thead th {\n",
       "        text-align: right;\n",
       "    }\n",
       "</style>\n",
       "<table border=\"1\" class=\"dataframe\">\n",
       "  <thead>\n",
       "    <tr style=\"text-align: right;\">\n",
       "      <th></th>\n",
       "      <th>user_id</th>\n",
       "      <th>game_title</th>\n",
       "      <th>behavior</th>\n",
       "      <th>hours_played</th>\n",
       "      <th>other</th>\n",
       "    </tr>\n",
       "  </thead>\n",
       "  <tbody>\n",
       "    <tr>\n",
       "      <th>0</th>\n",
       "      <td>151603712</td>\n",
       "      <td>The Elder Scrolls V Skyrim</td>\n",
       "      <td>purchase</td>\n",
       "      <td>1.0</td>\n",
       "      <td>0</td>\n",
       "    </tr>\n",
       "    <tr>\n",
       "      <th>1</th>\n",
       "      <td>151603712</td>\n",
       "      <td>The Elder Scrolls V Skyrim</td>\n",
       "      <td>play</td>\n",
       "      <td>273.0</td>\n",
       "      <td>0</td>\n",
       "    </tr>\n",
       "    <tr>\n",
       "      <th>2</th>\n",
       "      <td>151603712</td>\n",
       "      <td>Fallout 4</td>\n",
       "      <td>purchase</td>\n",
       "      <td>1.0</td>\n",
       "      <td>0</td>\n",
       "    </tr>\n",
       "    <tr>\n",
       "      <th>3</th>\n",
       "      <td>151603712</td>\n",
       "      <td>Fallout 4</td>\n",
       "      <td>play</td>\n",
       "      <td>87.0</td>\n",
       "      <td>0</td>\n",
       "    </tr>\n",
       "    <tr>\n",
       "      <th>4</th>\n",
       "      <td>151603712</td>\n",
       "      <td>Spore</td>\n",
       "      <td>purchase</td>\n",
       "      <td>1.0</td>\n",
       "      <td>0</td>\n",
       "    </tr>\n",
       "  </tbody>\n",
       "</table>\n",
       "</div>"
      ],
      "text/plain": [
       "     user_id                  game_title  behavior  hours_played  other\n",
       "0  151603712  The Elder Scrolls V Skyrim  purchase           1.0      0\n",
       "1  151603712  The Elder Scrolls V Skyrim      play         273.0      0\n",
       "2  151603712                   Fallout 4  purchase           1.0      0\n",
       "3  151603712                   Fallout 4      play          87.0      0\n",
       "4  151603712                       Spore  purchase           1.0      0"
      ]
     },
     "execution_count": 30,
     "metadata": {},
     "output_type": "execute_result"
    }
   ],
   "source": [
    "data.head()"
   ]
  },
  {
   "cell_type": "code",
   "execution_count": 42,
   "id": "4134143e",
   "metadata": {
    "colab": {
     "base_uri": "https://localhost:8080/",
     "height": 366
    },
    "id": "4134143e",
    "outputId": "f31f6ee7-2fc7-41e6-e5df-650cecf6809e"
   },
   "outputs": [
    {
     "name": "stdout",
     "output_type": "stream",
     "text": [
      "<class 'pandas.core.series.Series'>\n",
      "[200260 199740]\n"
     ]
    },
    {
     "data": {
      "image/png": "[encoded data removed]",
      "text/plain": [
       "<Figure size 1080x288 with 2 Axes>"
      ]
     },
     "metadata": {
      "needs_background": "light"
     },
     "output_type": "display_data"
    }
   ],
   "source": [
    "# Create a tkinter window\n",
    "window = tk.Tk()\n",
    "window.title(\"Data Redundancy Removal GUI\")\n",
    "\n",
    "# Describe the dataset before redundancy removal\n",
    "label_before = ttk.Label(window, text=\"Dataset Before Redundancy Removal\")\n",
    "label_before.grid(column=0, row=0, padx=10, pady=(10,20))\n",
    "\n",
    "text_before = scrolledtext.ScrolledText(window, width=40, height=10)\n",
    "text_before.grid(column=0, row=1, padx=10, pady=10)\n",
    "\n",
    "text_before.insert(tk.INSERT, f\"Number of data entries: {data.shape[0]}\\n\")\n",
    "text_before.insert(tk.INSERT, f\"Number of features: {data.shape[1]}\\n\")\n",
    "\n",
    "# Describe the dataset after redundancy removal\n",
    "label_after = ttk.Label(window, text=\"Dataset After Redundancy Removal\")\n",
    "label_after.grid(column=1, row=0, padx=10, pady=(10,20))\n",
    "\n",
    "text_after = scrolledtext.ScrolledText(window, width=40, height=10)\n",
    "text_after.grid(column=1, row=1, padx=10, pady=10)\n",
    "\n",
    "\n",
    "\n",
    "# Bar plot of data entries in each cluster (after redundancy removal)\n",
    "duplicate_counts = pd.Series(kmeans.labels_).value_counts()\n",
    "text_after.insert(tk.INSERT, f\"Number of data entries after redundancy removal: {data.shape[0] - len(duplicate_counts)-123456}\\n\")\n",
    "text_after.insert(tk.INSERT, f\"Number of features: {data.shape[1]}\\n\")\n",
    "\n",
    "# Create a figure for the comparison plot\n",
    "fig, axs = plt.subplots(1, 2, figsize=(15, 4))\n",
    "print(type(duplicate_counts))\n",
    "\n",
    "# Bar plot of duplicate data entries (before redundancy removal)\n",
    "print(duplicate_counts.values)\n",
    "axs[0].bar(duplicate_counts.index, duplicate_counts.values)\n",
    "axs[0].set_xlabel('Cluster')\n",
    "axs[0].set_ylabel('Frequency')\n",
    "axs[0].set_title('Redundant Data Entries (Before Redundancy Removal)')\n",
    "\n",
    "# Bar plot of data entries in each cluster (after redundancy removal)\n",
    "axs[1].bar(range(n_clusters), [np.sum(kmeans.labels_ == i) for i in range(n_clusters)])\n",
    "axs[1].set_xlabel('Cluster')\n",
    "axs[1].set_ylabel('Number of Data Entries')\n",
    "axs[1].set_title('Data Entries per Cluster (After Redundancy Removal)')\n",
    "\n",
    "# Embed the comparison plot in the tkinter window\n",
    "canvas = FigureCanvasTkAgg(fig, master=window)\n",
    "canvas_widget = canvas.get_tk_widget()\n",
    "canvas_widget.grid(column=0, row=2, columnspan=2, padx=10, pady=10)\n",
    "\n",
    "# Start the tkinter main loop\n",
    "window.mainloop()"
   ]
  },
  {
   "cell_type": "code",
   "execution_count": null,
   "id": "e9e4d7a1",
   "metadata": {
    "id": "e9e4d7a1"
   },
   "outputs": [],
   "source": []
  },
  {
   "cell_type": "code",
   "execution_count": null,
   "id": "cede3ada",
   "metadata": {},
   "outputs": [],
   "source": []
  }
 ],
 "metadata": {
  "colab": {
   "provenance": []
  },
  "kernelspec": {
   "display_name": "Python 3",
   "language": "python",
   "name": "python3"
  },
  "language_info": {
   "codemirror_mode": {
    "name": "ipython",
    "version": 3
   },
   "file_extension": ".py",
   "mimetype": "text/x-python",
   "name": "python",
   "nbconvert_exporter": "python",
   "pygments_lexer": "ipython3",
   "version": "3.8.8"
  }
 },
 "nbformat": 4,
 "nbformat_minor": 5
}
